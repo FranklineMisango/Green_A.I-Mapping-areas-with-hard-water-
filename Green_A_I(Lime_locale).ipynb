{
  "nbformat": 4,
  "nbformat_minor": 0,
  "metadata": {
    "colab": {
      "name": "Green_A.I(Lime_locale).ipynb",
      "provenance": [],
      "authorship_tag": "ABX9TyOoZMsuYyXShypp7rVQ8ri+",
      "include_colab_link": true
    },
    "kernelspec": {
      "name": "python3",
      "display_name": "Python 3"
    },
    "language_info": {
      "name": "python"
    }
  },
  "cells": [
    {
      "cell_type": "markdown",
      "metadata": {
        "id": "view-in-github",
        "colab_type": "text"
      },
      "source": [
        "<a href=\"https://colab.research.google.com/github/FranklineMisango/Green_A.I-Mapping-areas-with-hard-water-/blob/main/Green_A_I(Lime_locale).ipynb\" target=\"_parent\"><img src=\"https://colab.research.google.com/assets/colab-badge.svg\" alt=\"Open In Colab\"/></a>"
      ]
    },
    {
      "cell_type": "code",
      "execution_count": null,
      "metadata": {
        "id": "WjHFmcLGjqdK"
      },
      "outputs": [],
      "source": [
        ""
      ]
    }
  ]
}